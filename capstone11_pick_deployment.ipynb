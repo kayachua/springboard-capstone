{
 "cells": [
  {
   "cell_type": "markdown",
   "id": "7411ef12-2eb9-47fa-9124-125f5fb889b8",
   "metadata": {},
   "source": [
    "<i>21.6 Capstone Step 11: Pick Your Deployment Method</i>\n",
    "\n",
    "<i>In this step on the Capstone, you'll pick your deployment method.</i>\n",
    "\n",
    "Now that model has been trained, brainstorming next steps:\n",
    "\n",
    "- Code interface (API or app) in Python scripts\n",
    "- Make conda environment leaner\n",
    "  - Use miniconda base \n",
    "  - Only necessary packages in environment.yml\n",
    "- Build Docker image of app in streamlined conda environment\n",
    "  - Write dockerfile\n",
    "- Run Docker container on Google Cloud Platform\n",
    "- Use Flask to create web app\n"
   ]
  },
  {
   "cell_type": "code",
   "execution_count": null,
   "id": "46e212eb-1505-4458-8b2b-29ff4051d0b6",
   "metadata": {},
   "outputs": [],
   "source": []
  }
 ],
 "metadata": {
  "kernelspec": {
   "display_name": "Python [conda env:root] *",
   "language": "python",
   "name": "conda-root-py"
  },
  "language_info": {
   "codemirror_mode": {
    "name": "ipython",
    "version": 3
   },
   "file_extension": ".py",
   "mimetype": "text/x-python",
   "name": "python",
   "nbconvert_exporter": "python",
   "pygments_lexer": "ipython3",
   "version": "3.9.13"
  }
 },
 "nbformat": 4,
 "nbformat_minor": 5
}
